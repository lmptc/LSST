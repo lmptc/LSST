{
  "nbformat": 4,
  "nbformat_minor": 0,
  "metadata": {
    "colab": {
      "name": "Untitled0.ipynb",
      "provenance": []
    },
    "kernelspec": {
      "name": "python3",
      "display_name": "Python 3"
    },
    "language_info": {
      "name": "python"
    }
  },
  "cells": [
    {
      "cell_type": "code",
      "metadata": {
        "id": "ZvF5YCPPsJT5"
      },
      "source": [
        "import pandas as pd\n",
        "import numpy as np\n",
        "import pylab as pl\n",
        "import tarfile\n",
        "from astropy.io import fits"
      ],
      "execution_count": 1,
      "outputs": []
    },
    {
      "cell_type": "code",
      "metadata": {
        "colab": {
          "base_uri": "https://localhost:8080/"
        },
        "id": "a1LGkTmqvh8-",
        "outputId": "fde3fd3b-56b3-47be-e4e5-82fdc7fc5760"
      },
      "source": [
        "from google.colab import drive\n",
        "drive.mount(\"/content/drive\")"
      ],
      "execution_count": 2,
      "outputs": [
        {
          "output_type": "stream",
          "text": [
            "Mounted at /content/drive\n"
          ],
          "name": "stdout"
        }
      ]
    },
    {
      "cell_type": "code",
      "metadata": {
        "colab": {
          "base_uri": "https://localhost:8080/"
        },
        "id": "vcGuQ7kyvknD",
        "outputId": "45a30bf7-0864-4421-8ace-adcd13a2f219"
      },
      "source": [
        "cd drive/My Drive/"
      ],
      "execution_count": 5,
      "outputs": [
        {
          "output_type": "stream",
          "text": [
            "/content/drive/My Drive\n"
          ],
          "name": "stdout"
        }
      ]
    },
    {
      "cell_type": "code",
      "metadata": {
        "colab": {
          "base_uri": "https://localhost:8080/"
        },
        "id": "J8Wm9FOvvvvF",
        "outputId": "03647632-982a-4fba-ba0b-e3f2621b7eb1"
      },
      "source": [
        "cd LSST/PLAsTiCC/Data/"
      ],
      "execution_count": 6,
      "outputs": [
        {
          "output_type": "stream",
          "text": [
            "/content/drive/My Drive/LSST/PLAsTiCC/Data\n"
          ],
          "name": "stdout"
        }
      ]
    },
    {
      "cell_type": "code",
      "metadata": {
        "colab": {
          "base_uri": "https://localhost:8080/"
        },
        "id": "vL3SRikmwgfX",
        "outputId": "da33871c-61a4-4dc5-b4ed-634b16e0718f"
      },
      "source": [
        "!wget https://zenodo.org/record/4641673/files/GSN_IDEAL_z02.tar.gz"
      ],
      "execution_count": null,
      "outputs": [
        {
          "output_type": "stream",
          "text": [
            "--2021-04-06 15:22:36--  https://zenodo.org/record/4641673/files/GSN_IDEAL_z02.tar.gz\n",
            "Resolving zenodo.org (zenodo.org)... 137.138.76.77\n",
            "Connecting to zenodo.org (zenodo.org)|137.138.76.77|:443... connected.\n",
            "HTTP request sent, awaiting response... 200 OK\n",
            "Length: 11883107810 (11G) [application/octet-stream]\n",
            "Saving to: ‘GSN_IDEAL_z02.tar.gz’\n",
            "\n",
            "GSN_IDEAL_z02.tar.g 100%[===================>]  11.07G  20.2MB/s    in 7m 33s  \n",
            "\n",
            "2021-04-06 15:30:10 (25.0 MB/s) - ‘GSN_IDEAL_z02.tar.gz’ saved [11883107810/11883107810]\n",
            "\n"
          ],
          "name": "stdout"
        }
      ]
    },
    {
      "cell_type": "markdown",
      "metadata": {
        "id": "24pSEEppwwt4"
      },
      "source": [
        "lcvsOriginal = pd.read_csv(\"plasticc_train_metadata.csv.gz\")"
      ]
    },
    {
      "cell_type": "code",
      "metadata": {
        "id": "IDv2ULGXmY4_"
      },
      "source": [
        "hdul_EB_01H = fits.open('/content/drive/MyDrive/LSST/PLAsTiCC/Data/GSN_IDEAL_z02/IDEAL_z02_MODEL16_EB/GSN_IDEAL_z02_NONIaMODEL0-0001_HEAD.FITS.gz')\n",
        "hdul_EB_01P = fits.open('/content/drive/MyDrive/LSST/PLAsTiCC/Data/GSN_IDEAL_z02/IDEAL_z02_MODEL16_EB/GSN_IDEAL_z02_NONIaMODEL0-0001_PHOT.FITS.gz')"
      ],
      "execution_count": 20,
      "outputs": []
    },
    {
      "cell_type": "code",
      "metadata": {
        "id": "8Hpu4Yl33P07"
      },
      "source": [
        "hdul_EB_02H = fits.open('/content/drive/MyDrive/LSST/PLAsTiCC/Data/GSN_IDEAL_z02/IDEAL_z02_MODEL16_EB/GSN_IDEAL_z02_NONIaMODEL0-0002_HEAD.FITS.gz')\n",
        "hdul_EB_02P = fits.open('/content/drive/MyDrive/LSST/PLAsTiCC/Data/GSN_IDEAL_z02/IDEAL_z02_MODEL16_EB/GSN_IDEAL_z02_NONIaMODEL0-0002_PHOT.FITS.gz')"
      ],
      "execution_count": 28,
      "outputs": []
    },
    {
      "cell_type": "code",
      "metadata": {
        "colab": {
          "base_uri": "https://localhost:8080/"
        },
        "id": "zVPn25-m0Y0u",
        "outputId": "a1eac632-4fd8-4881-a841-02ea096a3999"
      },
      "source": [
        "hdul_EB_01H.info()"
      ],
      "execution_count": null,
      "outputs": [
        {
          "output_type": "stream",
          "text": [
            "Filename: /content/drive/MyDrive/LSST/PLAsTiCC/Data/GSN_IDEAL_z02/IDEAL_z02_MODEL16_EB/GSN_IDEAL_z02_NONIaMODEL0-0001_HEAD.FITS.gz\n",
            "No.    Name      Ver    Type      Cards   Dimensions   Format\n",
            "  0  PRIMARY       1 PrimaryHDU      28   (0,)      \n",
            "  1  Header        1 BinTableHDU    309   2000R x 100C   [40A, 16A, 16A, 1I, 1D, 1D, 1E, 1I, 1I, 1J, 1J, 1J, 1J, 1E, 1E, 1E, 1E, 1E, 1E, 1E, 1E, 1I, 1I, 1K, 1E, 1E, 1E, 1E, 1D, 1D, 1E, 1E, 1E, 1E, 1E, 1E, 1E, 1E, 1E, 1E, 1E, 1E, 1E, 1E, 1E, 1E, 1E, 1E, 1E, 1E, 1E, 1E, 1E, 1E, 1E, 1E, 1J, 32A, 1I, 1I, 8A, 1J, 1J, 1J, 1J, 1J, 1E, 1E, 1E, 1I, 1E, 1K, 1E, 1E, 1D, 1D, 1E, 1E, 1E, 1E, 1E, 1E, 1E, 1E, 1E, 1E, 1E, 1E, 1E, 1E, 1E, 1E, 1E, 1E, 1E, 1E, 1E, 1E, 1E, 1I]   \n"
          ],
          "name": "stdout"
        }
      ]
    },
    {
      "cell_type": "code",
      "metadata": {
        "colab": {
          "base_uri": "https://localhost:8080/"
        },
        "id": "ERok2iXW2Slw",
        "outputId": "7d06f1bc-f1f9-42e0-e2b8-f5d38d272add"
      },
      "source": [
        "hdul_EB_01P.info()"
      ],
      "execution_count": null,
      "outputs": [
        {
          "output_type": "stream",
          "text": [
            "Filename: /content/drive/MyDrive/LSST/PLAsTiCC/Data/GSN_IDEAL_z02/IDEAL_z02_MODEL16_EB/GSN_IDEAL_z02_NONIaMODEL0-0001_PHOT.FITS.gz\n",
            "No.    Name      Ver    Type      Cards   Dimensions   Format\n",
            "  0  PRIMARY       1 PrimaryHDU      27   (0,)      \n",
            "  1  Photometry    1 BinTableHDU     66   2510000R x 19C   [1D, 2A, 1I, 12A, 1J, 1E, 1E, 1E, 1E, 1E, 1E, 1E, 1E, 1E, 1E, 1E, 1E, 1E, 1E]   \n"
          ],
          "name": "stdout"
        }
      ]
    },
    {
      "cell_type": "code",
      "metadata": {
        "colab": {
          "base_uri": "https://localhost:8080/"
        },
        "id": "7KgTI1IsUFhT",
        "outputId": "568b02e4-828d-4767-cb4b-ac56b31f8c72"
      },
      "source": [
        "hdul_EB_02H.info()"
      ],
      "execution_count": 44,
      "outputs": [
        {
          "output_type": "stream",
          "text": [
            "Filename: /content/drive/MyDrive/LSST/PLAsTiCC/Data/GSN_IDEAL_z02/IDEAL_z02_MODEL16_EB/GSN_IDEAL_z02_NONIaMODEL0-0002_HEAD.FITS.gz\n",
            "No.    Name      Ver    Type      Cards   Dimensions   Format\n",
            "  0  PRIMARY       1 PrimaryHDU      28   (0,)      \n",
            "  1  Header        1 BinTableHDU    309   2000R x 100C   ['40A', '16A', '16A', '1I', '1D', '1D', '1E', '1I', '1I', '1J', '1J', '1J', '1J', '1E', '1E', '1E', '1E', '1E', '1E', '1E', '1E', '1I', '1I', '1K', '1E', '1E', '1E', '1E', '1D', '1D', '1E', '1E', '1E', '1E', '1E', '1E', '1E', '1E', '1E', '1E', '1E', '1E', '1E', '1E', '1E', '1E', '1E', '1E', '1E', '1E', '1E', '1E', '1E', '1E', '1E', '1E', '1J', '32A', '1I', '1I', '8A', '1J', '1J', '1J', '1J', '1J', '1E', '1E', '1E', '1I', '1E', '1K', '1E', '1E', '1D', '1D', '1E', '1E', '1E', '1E', '1E', '1E', '1E', '1E', '1E', '1E', '1E', '1E', '1E', '1E', '1E', '1E', '1E', '1E', '1E', '1E', '1E', '1E', '1E', '1I']   \n"
          ],
          "name": "stdout"
        }
      ]
    },
    {
      "cell_type": "code",
      "metadata": {
        "colab": {
          "base_uri": "https://localhost:8080/"
        },
        "id": "-43h9tuhUFVW",
        "outputId": "c13dcf01-aec3-4dfe-dd60-096828bd520a"
      },
      "source": [
        "hdul_EB_02P.info()"
      ],
      "execution_count": 45,
      "outputs": [
        {
          "output_type": "stream",
          "text": [
            "Filename: /content/drive/MyDrive/LSST/PLAsTiCC/Data/GSN_IDEAL_z02/IDEAL_z02_MODEL16_EB/GSN_IDEAL_z02_NONIaMODEL0-0002_PHOT.FITS.gz\n",
            "No.    Name      Ver    Type      Cards   Dimensions   Format\n",
            "  0  PRIMARY       1 PrimaryHDU      27   (0,)      \n",
            "  1  Photometry    1 BinTableHDU     66   2510000R x 19C   ['1D', '2A', '1I', '12A', '1J', '1E', '1E', '1E', '1E', '1E', '1E', '1E', '1E', '1E', '1E', '1E', '1E', '1E', '1E']   \n"
          ],
          "name": "stdout"
        }
      ]
    },
    {
      "cell_type": "code",
      "metadata": {
        "colab": {
          "base_uri": "https://localhost:8080/"
        },
        "id": "GkHCYUKbW1cv",
        "outputId": "2a2940de-b909-424c-8983-94bd707427b2"
      },
      "source": [
        "hdul_EB_01H"
      ],
      "execution_count": null,
      "outputs": [
        {
          "output_type": "execute_result",
          "data": {
            "text/plain": [
              "[<astropy.io.fits.hdu.image.PrimaryHDU object at 0x7faa74f04d10>, <astropy.io.fits.hdu.table.BinTableHDU object at 0x7faa74ca1590>]"
            ]
          },
          "metadata": {
            "tags": []
          },
          "execution_count": 27
        }
      ]
    },
    {
      "cell_type": "code",
      "metadata": {
        "id": "bte38vEzW1Y5"
      },
      "source": [
        "hdul_EB_01H.close()"
      ],
      "execution_count": null,
      "outputs": []
    },
    {
      "cell_type": "code",
      "metadata": {
        "colab": {
          "base_uri": "https://localhost:8080/"
        },
        "id": "XnnoDGhgW1VX",
        "outputId": "85fd7da8-e409-49ff-a75e-a6b98188f078"
      },
      "source": [
        "hdul_EB_01H"
      ],
      "execution_count": null,
      "outputs": [
        {
          "output_type": "execute_result",
          "data": {
            "text/plain": [
              "[<astropy.io.fits.hdu.image.PrimaryHDU object at 0x7faa74f04d10>, <astropy.io.fits.hdu.table.BinTableHDU object at 0x7faa74ca1590>]"
            ]
          },
          "metadata": {
            "tags": []
          },
          "execution_count": 31
        }
      ]
    },
    {
      "cell_type": "code",
      "metadata": {
        "colab": {
          "base_uri": "https://localhost:8080/"
        },
        "id": "DymDOJNlXJQN",
        "outputId": "10d45556-06e9-44cc-8201-0ca8e32355b7"
      },
      "source": [
        "hdul_EB_01P[1].data['mjd'][0:24]"
      ],
      "execution_count": 26,
      "outputs": [
        {
          "output_type": "execute_result",
          "data": {
            "text/plain": [
              "array([53000., 53000., 53000., 53000., 53000., 53000., 53002., 53002.,\n",
              "       53002., 53002., 53002., 53002., 53004., 53004., 53004., 53004.,\n",
              "       53004., 53004., 53006., 53006., 53006., 53006., 53006., 53006.])"
            ]
          },
          "metadata": {
            "tags": []
          },
          "execution_count": 26
        }
      ]
    },
    {
      "cell_type": "code",
      "metadata": {
        "id": "Fjy-Z0uzXJJm",
        "colab": {
          "base_uri": "https://localhost:8080/"
        },
        "outputId": "df33dfd6-cebe-4249-a537-143dffb8906a"
      },
      "source": [
        "hdul_EB_01H[1].data"
      ],
      "execution_count": null,
      "outputs": [
        {
          "output_type": "execute_result",
          "data": {
            "text/plain": [
              "FITS_rec([('', '308781', 'NULL', 2, 0., 0., 0.2, -9, -9, 16, 1254,       1,    1254, 0., 0., -1.2514587e-03, 0.001, -1.2514587e-03, 0.001, 0., 0., 0, 0, -9, 0., 0., 0., 0.001, -999., -999., -9., -9., -99., -9., -9., -99., -99., 999., 999., 999., 999., 999., 999., 999., 999., 999., 999., 999., 999., -999., -999., -999., -999., -999., -999., 53001.223, -9, 'LCLIB', 12, 16, 'PHOEBE', 315, 1, 1, 0, 3, 0., 0., 0., 1, -0., -9, 0., 0., 0., 0., 0., 53000., 0., -9., -9., 21.923555, 18.865   , 18.387   , 18.483555, 18.817   , 19.663   , 21.922   , 18.863   , 18.38575 , 18.482   , 18.81575 , 19.66125 , 1000., 1000., 1000., 1000., 1000., 1000., -9),\n",
              "          ('', '24908', 'NULL', 2, 0., 0., 0.2, -9, -9, 16, 1254,    1256,    2509, 0., 0., -2.2635108e-04, 0.001, -2.2635108e-04, 0.001, 0., 0., 0, 0, -9, 0., 0., 0., 0.001, -999., -999., -9., -9., -99., -9., -9., -99., -99., 999., 999., 999., 999., 999., 999., 999., 999., 999., 999., 999., 999., -999., -999., -999., -999., -999., -999., 52999.688, -9, 'LCLIB', 12, 16, 'PHOEBE', 321, 1, 1, 0, 3, 0., 0., 0., 1, -0., -9, 0., 0., 0., 0., 0., 53000., 0., -9., -9., 19.119   , 16.736   , 16.734   , 17.121   , 17.632   , 18.596   , 19.1185  , 16.736   , 16.734   , 17.121   , 17.632   , 18.596   , 1000., 1000., 1000., 1000., 1000., 1000., -9),\n",
              "          ('', '152579', 'NULL', 2, 0., 0., 0.2, -9, -9, 16, 1254,    2511,    3764, 0., 0.,  1.8348401e-04, 0.001,  1.8348401e-04, 0.001, 0., 0., 0, 0, -9, 0., 0., 0., 0.001, -999., -999., -9., -9., -99., -9., -9., -99., -99., 999., 999., 999., 999., 999., 999., 999., 999., 999., 999., 999., 999., -999., -999., -999., -999., -999., -999., 53000.15 , -9, 'LCLIB', 12, 16, 'PHOEBE', 329, 1, 2, 0, 3, 0., 0., 0., 1, -0., -9, 0., 0., 0., 0., 0., 53000., 0., -9., -9., 16.238926, 13.640925, 13.485926, 13.781925, 14.237694, 15.164926, 16.225403, 13.627673, 13.473105, 13.769435, 14.225485, 15.152765, 1000., 1000., 1000., 1000., 1000., 1000., -9),\n",
              "          ...,\n",
              "          ('', '1181728', 'NULL', 2, 0., 0., 0.2, -9, -9, 16, 1254, 2506236, 2507489, 0., 0., -3.2543851e-04, 0.001, -3.2543851e-04, 0.001, 0., 0., 0, 0, -9, 0., 0., 0., 0.001, -999., -999., -9., -9., -99., -9., -9., -99., -99., 999., 999., 999., 999., 999., 999., 999., 999., 999., 999., 999., 999., -999., -999., -999., -999., -999., -999., 52999.746, -9, 'LCLIB', 12, 16, 'PHOEBE',  15, 1, 1, 0, 3, 0., 0., 0., 1,  0., -9, 0., 0., 0., 0., 0., 53000., 0., -9., -9., 23.276745, 21.029007, 21.11953 , 21.56053 , 22.102793, 23.086792, 23.245   , 20.998   , 21.09    , 21.531   , 22.074   , 23.058   , 1000., 1000., 1000., 1000., 1000., 1000., -9),\n",
              "          ('', '312626', 'NULL', 2, 0., 0., 0.2, -9, -9, 16, 1254, 2507491, 2508744, 0., 0.,  3.4737543e-04, 0.001,  3.4737543e-04, 0.001, 0., 0., 0, 0, -9, 0., 0., 0., 0.001, -999., -999., -9., -9., -99., -9., -9., -99., -99., 999., 999., 999., 999., 999., 999., 999., 999., 999., 999., 999., 999., -999., -999., -999., -999., -999., -999., 53001.05 , -9, 'LCLIB', 12, 16, 'PHOEBE',  21, 1, 2, 0, 3, 0., 0., 0., 1,  0., -9, 0., 0., 0., 0., 0., 53000., 0., -9., -9., 17.062   , 14.496   , 14.364   , 14.675   , 15.139   , 16.073   , 17.062   , 14.496   , 14.364   , 14.67475 , 15.139   , 16.07275 , 1000., 1000., 1000., 1000., 1000., 1000., -9),\n",
              "          ('', '53283', 'NULL', 2, 0., 0., 0.2, -9, -9, 16, 1254, 2508746, 2509999, 0., 0.,  6.1197090e-05, 0.001,  6.1197090e-05, 0.001, 0., 0., 0, 0, -9, 0., 0., 0., 0.001, -999., -999., -9., -9., -99., -9., -9., -99., -99., 999., 999., 999., 999., 999., 999., 999., 999., 999., 999., 999., 999., -999., -999., -999., -999., -999., -999., 52999.22 , -9, 'LCLIB', 12, 16, 'PHOEBE',  71, 1, 1, 0, 3, 0., 0., 0., 1,  0., -9, 0., 0., 0., 0., 0., 53000., 0., -9., -9., 22.021   , 19.007   , 18.55858 , 18.67258 , 19.01658 , 19.869581, 21.98462 , 18.973135, 18.526396, 18.641657, 18.986658, 19.840412, 1000., 1000., 1000., 1000., 1000., 1000., -9)],\n",
              "         dtype=(numpy.record, [('SUBSURVEY', 'S40'), ('SNID', 'S16'), ('IAUC', 'S16'), ('FAKE', '>i2'), ('RA', '>f8'), ('DEC', '>f8'), ('PIXSIZE', '>f4'), ('NXPIX', '>i2'), ('NYPIX', '>i2'), ('SNTYPE', '>i4'), ('NOBS', '>i4'), ('PTROBS_MIN', '>i4'), ('PTROBS_MAX', '>i4'), ('MWEBV', '>f4'), ('MWEBV_ERR', '>f4'), ('REDSHIFT_HELIO', '>f4'), ('REDSHIFT_HELIO_ERR', '>f4'), ('REDSHIFT_FINAL', '>f4'), ('REDSHIFT_FINAL_ERR', '>f4'), ('VPEC', '>f4'), ('VPEC_ERR', '>f4'), ('HOSTGAL_NMATCH', '>i2'), ('HOSTGAL_NMATCH2', '>i2'), ('HOSTGAL_OBJID', '>i8'), ('HOSTGAL_PHOTOZ', '>f4'), ('HOSTGAL_PHOTOZ_ERR', '>f4'), ('HOSTGAL_SPECZ', '>f4'), ('HOSTGAL_SPECZ_ERR', '>f4'), ('HOSTGAL_RA', '>f8'), ('HOSTGAL_DEC', '>f8'), ('HOSTGAL_SNSEP', '>f4'), ('HOSTGAL_DDLR', '>f4'), ('HOSTGAL_CONFUSION', '>f4'), ('HOSTGAL_LOGMASS', '>f4'), ('HOSTGAL_LOGMASS_ERR', '>f4'), ('HOSTGAL_sSFR', '>f4'), ('HOSTGAL_sSFR_ERR', '>f4'), ('HOSTGAL_MAG_u', '>f4'), ('HOSTGAL_MAG_g', '>f4'), ('HOSTGAL_MAG_r', '>f4'), ('HOSTGAL_MAG_i', '>f4'), ('HOSTGAL_MAG_z', '>f4'), ('HOSTGAL_MAG_Y', '>f4'), ('HOSTGAL_MAGERR_u', '>f4'), ('HOSTGAL_MAGERR_g', '>f4'), ('HOSTGAL_MAGERR_r', '>f4'), ('HOSTGAL_MAGERR_i', '>f4'), ('HOSTGAL_MAGERR_z', '>f4'), ('HOSTGAL_MAGERR_Y', '>f4'), ('HOSTGAL_SB_FLUXCAL_u', '>f4'), ('HOSTGAL_SB_FLUXCAL_g', '>f4'), ('HOSTGAL_SB_FLUXCAL_r', '>f4'), ('HOSTGAL_SB_FLUXCAL_i', '>f4'), ('HOSTGAL_SB_FLUXCAL_z', '>f4'), ('HOSTGAL_SB_FLUXCAL_Y', '>f4'), ('PEAKMJD', '>f4'), ('SEARCH_TYPE', '>i4'), ('SIM_MODEL_NAME', 'S32'), ('SIM_MODEL_INDEX', '>i2'), ('SIM_TYPE_INDEX', '>i2'), ('SIM_TYPE_NAME', 'S8'), ('SIM_TEMPLATE_INDEX', '>i4'), ('SIM_LIBID', '>i4'), ('SIM_NGEN_LIBID', '>i4'), ('SIM_NOBS_UNDEFINED', '>i4'), ('SIM_SEARCHEFF_MASK', '>i4'), ('SIM_REDSHIFT_HELIO', '>f4'), ('SIM_REDSHIFT_CMB', '>f4'), ('SIM_REDSHIFT_HOST', '>f4'), ('SIM_REDSHIFT_FLAG', '>i2'), ('SIM_VPEC', '>f4'), ('SIM_HOSTLIB_GALID', '>i8'), ('SIM_DLMU', '>f4'), ('SIM_LENSDMU', '>f4'), ('SIM_RA', '>f8'), ('SIM_DEC', '>f8'), ('SIM_MWEBV', '>f4'), ('SIM_PEAKMJD', '>f4'), ('SIM_MAGSMEAR_COH', '>f4'), ('SIM_AV', '>f4'), ('SIM_RV', '>f4'), ('SIM_PEAKMAG_u', '>f4'), ('SIM_PEAKMAG_g', '>f4'), ('SIM_PEAKMAG_r', '>f4'), ('SIM_PEAKMAG_i', '>f4'), ('SIM_PEAKMAG_z', '>f4'), ('SIM_PEAKMAG_Y', '>f4'), ('SIM_TEMPLATEMAG_u', '>f4'), ('SIM_TEMPLATEMAG_g', '>f4'), ('SIM_TEMPLATEMAG_r', '>f4'), ('SIM_TEMPLATEMAG_i', '>f4'), ('SIM_TEMPLATEMAG_z', '>f4'), ('SIM_TEMPLATEMAG_Y', '>f4'), ('SIM_EXPOSURE_u', '>f4'), ('SIM_EXPOSURE_g', '>f4'), ('SIM_EXPOSURE_r', '>f4'), ('SIM_EXPOSURE_i', '>f4'), ('SIM_EXPOSURE_z', '>f4'), ('SIM_EXPOSURE_Y', '>f4'), ('SIM_SUBSAMPLE_INDEX', '>i2')]))"
            ]
          },
          "metadata": {
            "tags": []
          },
          "execution_count": 48
        }
      ]
    },
    {
      "cell_type": "code",
      "metadata": {
        "id": "-XXsPigoXJGc",
        "colab": {
          "base_uri": "https://localhost:8080/"
        },
        "outputId": "c61ee75e-f592-408e-e038-1fa848d74c2c"
      },
      "source": [
        "hdul_EB_02H[1].data"
      ],
      "execution_count": 30,
      "outputs": [
        {
          "output_type": "execute_result",
          "data": {
            "text/plain": [
              "FITS_rec([('', '1240254', 'NULL', 2, 0., 0., 0.2, -9, -9, 16, 1254,       1,    1254, 0., 0., -1.6012449e-03, 0.001, -1.6012449e-03, 0.001, 0., 0., 0, 0, -9, 0., 0., 0., 0.001, -999., -999., -9., -9., -99., -9., -9., -99., -99., 999., 999., 999., 999., 999., 999., 999., 999., 999., 999., 999., 999., -999., -999., -999., -999., -999., -999., 52999.723, -9, 'LCLIB', 12, 16, 'PHOEBE', 160, 1, 1, 0, 3, 0., 0., 0., 1, -0., -9, 0., 0., 0., 0., 0., 53000., 0., -9., -9., 23.15623, 20.591   , 20.453232, 20.758   , 21.218    , 22.148   , 23.168034, 20.601067, 20.463097, 20.767105, 21.227114, 22.156872, 1000., 1000., 1000., 1000., 1000., 1000., -9),\n",
              "          ('', '91784', 'NULL', 2, 0., 0., 0.2, -9, -9, 16, 1254,    1256,    2509, 0., 0.,  7.5050797e-05, 0.001,  7.5050797e-05, 0.001, 0., 0., 0, 0, -9, 0., 0., 0., 0.001, -999., -999., -9., -9., -99., -9., -9., -99., -99., 999., 999., 999., 999., 999., 999., 999., 999., 999., 999., 999., 999., -999., -999., -999., -999., -999., -999., 52998.215, -9, 'LCLIB', 12, 16, 'PHOEBE', 181, 1, 2, 0, 3, 0., 0., 0., 1,  0., -9, 0., 0., 0., 0., 0., 53000., 0., -9., -9., 21.768  , 19.514528, 19.605   , 20.047   , 20.590527 , 21.575527, 21.7675  , 19.51375 , 19.60425 , 20.04625 , 20.59    , 21.574749, 1000., 1000., 1000., 1000., 1000., 1000., -9),\n",
              "          ('', '927225', 'NULL', 2, 0., 0., 0.2, -9, -9, 16, 1254,    2511,    3764, 0., 0.,  1.6067170e-04, 0.001,  1.6067170e-04, 0.001, 0., 0., 0, 0, -9, 0., 0., 0., 0.001, -999., -999., -9., -9., -99., -9., -9., -99., -99., 999., 999., 999., 999., 999., 999., 999., 999., 999., 999., 999., 999., -999., -999., -999., -999., -999., -999., 52999.926, -9, 'LCLIB', 12, 16, 'PHOEBE', 315, 1, 1, 0, 3, 0., 0., 0., 1, -0., -9, 0., 0., 0., 0., 0., 53000., 0., -9., -9., 21.922  , 18.863886, 18.386   , 18.482   , 18.816    , 19.662   , 21.923498, 18.865   , 18.387   , 18.48325 , 18.817   , 19.663   , 1000., 1000., 1000., 1000., 1000., 1000., -9),\n",
              "          ...,\n",
              "          ('', '1066090', 'NULL', 2, 0., 0., 0.2, -9, -9, 16, 1254, 2506236, 2507489, 0., 0.,  1.4130494e-03, 0.001,  1.4130494e-03, 0.001, 0., 0., 0, 0, -9, 0., 0., 0., 0.001, -999., -999., -9., -9., -99., -9., -9., -99., -99., 999., 999., 999., 999., 999., 999., 999., 999., 999., 999., 999., 999., -999., -999., -999., -999., -999., -999., 53001.824, -9, 'LCLIB', 12, 16, 'PHOEBE', 452, 1, 2, 0, 3, 0., 0., 0., 1, -0., -9, 0., 0., 0., 0., 0., 53000., 0., -9., -9., 19.184  , 16.747   , 16.698   , 17.052   , 17.542    , 18.492   , 19.18475 , 16.748499, 16.6985  , 17.05325 , 17.543499, 18.4925  , 1000., 1000., 1000., 1000., 1000., 1000., -9),\n",
              "          ('', '349531', 'NULL', 2, 0., 0., 0.2, -9, -9, 16, 1254, 2507491, 2508744, 0., 0., -1.1166899e-04, 0.001, -1.1166899e-04, 0.001, 0., 0., 0, 0, -9, 0., 0., 0., 0.001, -999., -999., -9., -9., -99., -9., -9., -99., -99., 999., 999., 999., 999., 999., 999., 999., 999., 999., 999., 999., 999., -999., -999., -999., -999., -999., -999., 52999.99 , -9, 'LCLIB', 12, 16, 'PHOEBE', 469, 1, 1, 0, 3, 0., 0., 0., 1, -0., -9, 0., 0., 0., 0., 0., 53000., 0., -9., -9., 17.824  , 15.211   , 15.045   , 15.334037, 15.7860365, 16.711   , 17.821928, 15.209683, 15.044188, 15.333691, 15.785942, 16.71069 , 1000., 1000., 1000., 1000., 1000., 1000., -9),\n",
              "          ('', '412983', 'NULL', 2, 0., 0., 0.2, -9, -9, 16, 1254, 2508746, 2509999, 0., 0., -8.1485126e-04, 0.001, -8.1485126e-04, 0.001, 0., 0., 0, 0, -9, 0., 0., 0., 0.001, -999., -999., -9., -9., -99., -9., -9., -99., -99., 999., 999., 999., 999., 999., 999., 999., 999., 999., 999., 999., 999., -999., -999., -999., -999., -999., -999., 53000.305, -9, 'LCLIB', 12, 16, 'PHOEBE',  15, 1, 2, 0, 3, 0., 0., 0., 1,  0., -9, 0., 0., 0., 0., 0., 53000., 0., -9., -9., 23.245  , 20.998   , 21.09    , 21.531   , 22.074    , 23.058   , 23.245   , 20.998   , 21.09    , 21.531   , 22.074   , 23.058   , 1000., 1000., 1000., 1000., 1000., 1000., -9)],\n",
              "         dtype=(numpy.record, [('SUBSURVEY', 'S40'), ('SNID', 'S16'), ('IAUC', 'S16'), ('FAKE', '>i2'), ('RA', '>f8'), ('DEC', '>f8'), ('PIXSIZE', '>f4'), ('NXPIX', '>i2'), ('NYPIX', '>i2'), ('SNTYPE', '>i4'), ('NOBS', '>i4'), ('PTROBS_MIN', '>i4'), ('PTROBS_MAX', '>i4'), ('MWEBV', '>f4'), ('MWEBV_ERR', '>f4'), ('REDSHIFT_HELIO', '>f4'), ('REDSHIFT_HELIO_ERR', '>f4'), ('REDSHIFT_FINAL', '>f4'), ('REDSHIFT_FINAL_ERR', '>f4'), ('VPEC', '>f4'), ('VPEC_ERR', '>f4'), ('HOSTGAL_NMATCH', '>i2'), ('HOSTGAL_NMATCH2', '>i2'), ('HOSTGAL_OBJID', '>i8'), ('HOSTGAL_PHOTOZ', '>f4'), ('HOSTGAL_PHOTOZ_ERR', '>f4'), ('HOSTGAL_SPECZ', '>f4'), ('HOSTGAL_SPECZ_ERR', '>f4'), ('HOSTGAL_RA', '>f8'), ('HOSTGAL_DEC', '>f8'), ('HOSTGAL_SNSEP', '>f4'), ('HOSTGAL_DDLR', '>f4'), ('HOSTGAL_CONFUSION', '>f4'), ('HOSTGAL_LOGMASS', '>f4'), ('HOSTGAL_LOGMASS_ERR', '>f4'), ('HOSTGAL_sSFR', '>f4'), ('HOSTGAL_sSFR_ERR', '>f4'), ('HOSTGAL_MAG_u', '>f4'), ('HOSTGAL_MAG_g', '>f4'), ('HOSTGAL_MAG_r', '>f4'), ('HOSTGAL_MAG_i', '>f4'), ('HOSTGAL_MAG_z', '>f4'), ('HOSTGAL_MAG_Y', '>f4'), ('HOSTGAL_MAGERR_u', '>f4'), ('HOSTGAL_MAGERR_g', '>f4'), ('HOSTGAL_MAGERR_r', '>f4'), ('HOSTGAL_MAGERR_i', '>f4'), ('HOSTGAL_MAGERR_z', '>f4'), ('HOSTGAL_MAGERR_Y', '>f4'), ('HOSTGAL_SB_FLUXCAL_u', '>f4'), ('HOSTGAL_SB_FLUXCAL_g', '>f4'), ('HOSTGAL_SB_FLUXCAL_r', '>f4'), ('HOSTGAL_SB_FLUXCAL_i', '>f4'), ('HOSTGAL_SB_FLUXCAL_z', '>f4'), ('HOSTGAL_SB_FLUXCAL_Y', '>f4'), ('PEAKMJD', '>f4'), ('SEARCH_TYPE', '>i4'), ('SIM_MODEL_NAME', 'S32'), ('SIM_MODEL_INDEX', '>i2'), ('SIM_TYPE_INDEX', '>i2'), ('SIM_TYPE_NAME', 'S8'), ('SIM_TEMPLATE_INDEX', '>i4'), ('SIM_LIBID', '>i4'), ('SIM_NGEN_LIBID', '>i4'), ('SIM_NOBS_UNDEFINED', '>i4'), ('SIM_SEARCHEFF_MASK', '>i4'), ('SIM_REDSHIFT_HELIO', '>f4'), ('SIM_REDSHIFT_CMB', '>f4'), ('SIM_REDSHIFT_HOST', '>f4'), ('SIM_REDSHIFT_FLAG', '>i2'), ('SIM_VPEC', '>f4'), ('SIM_HOSTLIB_GALID', '>i8'), ('SIM_DLMU', '>f4'), ('SIM_LENSDMU', '>f4'), ('SIM_RA', '>f8'), ('SIM_DEC', '>f8'), ('SIM_MWEBV', '>f4'), ('SIM_PEAKMJD', '>f4'), ('SIM_MAGSMEAR_COH', '>f4'), ('SIM_AV', '>f4'), ('SIM_RV', '>f4'), ('SIM_PEAKMAG_u', '>f4'), ('SIM_PEAKMAG_g', '>f4'), ('SIM_PEAKMAG_r', '>f4'), ('SIM_PEAKMAG_i', '>f4'), ('SIM_PEAKMAG_z', '>f4'), ('SIM_PEAKMAG_Y', '>f4'), ('SIM_TEMPLATEMAG_u', '>f4'), ('SIM_TEMPLATEMAG_g', '>f4'), ('SIM_TEMPLATEMAG_r', '>f4'), ('SIM_TEMPLATEMAG_i', '>f4'), ('SIM_TEMPLATEMAG_z', '>f4'), ('SIM_TEMPLATEMAG_Y', '>f4'), ('SIM_EXPOSURE_u', '>f4'), ('SIM_EXPOSURE_g', '>f4'), ('SIM_EXPOSURE_r', '>f4'), ('SIM_EXPOSURE_i', '>f4'), ('SIM_EXPOSURE_z', '>f4'), ('SIM_EXPOSURE_Y', '>f4'), ('SIM_SUBSAMPLE_INDEX', '>i2')]))"
            ]
          },
          "metadata": {
            "tags": []
          },
          "execution_count": 30
        }
      ]
    },
    {
      "cell_type": "code",
      "metadata": {
        "colab": {
          "base_uri": "https://localhost:8080/"
        },
        "id": "oUk4cb_qD_DK",
        "outputId": "9903a4f8-63fa-4dcd-ce25-55ed937a0317"
      },
      "source": [
        "np.sort(hdul_EB_01H[1].data['snid'])"
      ],
      "execution_count": 42,
      "outputs": [
        {
          "output_type": "execute_result",
          "data": {
            "text/plain": [
              "chararray(['1000316', '1000623', '1000747', ..., '999012', '999554',\n",
              "           '999816'], dtype='<U16')"
            ]
          },
          "metadata": {
            "tags": []
          },
          "execution_count": 42
        }
      ]
    },
    {
      "cell_type": "code",
      "metadata": {
        "colab": {
          "base_uri": "https://localhost:8080/"
        },
        "id": "mWA96kUuD-8c",
        "outputId": "e3155d57-ddfc-4d57-d6c8-645b2964c285"
      },
      "source": [
        "np.sort(hdul_EB_02H[1].data['snid'])"
      ],
      "execution_count": 43,
      "outputs": [
        {
          "output_type": "execute_result",
          "data": {
            "text/plain": [
              "chararray(['1000134', '1000702', '1000938', ..., '998425', '998655',\n",
              "           '999639'], dtype='<U16')"
            ]
          },
          "metadata": {
            "tags": []
          },
          "execution_count": 43
        }
      ]
    },
    {
      "cell_type": "code",
      "metadata": {
        "id": "QgxLM73zD-re"
      },
      "source": [
        ""
      ],
      "execution_count": null,
      "outputs": []
    },
    {
      "cell_type": "code",
      "metadata": {
        "id": "VzTuynuaD-nu"
      },
      "source": [
        ""
      ],
      "execution_count": null,
      "outputs": []
    },
    {
      "cell_type": "code",
      "metadata": {
        "colab": {
          "base_uri": "https://localhost:8080/"
        },
        "id": "yv-3Uj-73t0X",
        "outputId": "af9dd4e1-33fb-481f-e8b7-2cfeb9df9173"
      },
      "source": [
        "hdul_EB_01P[1].data"
      ],
      "execution_count": 40,
      "outputs": [
        {
          "output_type": "execute_result",
          "data": {
            "text/plain": [
              "FITS_rec([(53000., 'u', -9, 'NULL', 4096, -9., -2.3403092e-01,   nan,  1.,  0.,  0., 1264.911,  0., 31.622776, 42.5, 0.,  1., 21.923555, 0.),\n",
              "          (53000., 'g', -9, 'NULL', 4096, -9., -5.1496358e+00,   nan,  1.,  0.,  0., 1264.911,  0., 31.622776, 42.5, 0.,  1., 18.865   , 0.),\n",
              "          (53000., 'r', -9, 'NULL', 4096, -9., -5.1558981e+00,   nan,  1.,  0.,  0., 1264.911,  0., 31.622776, 42.5, 0.,  1., 18.387   , 0.),\n",
              "          ...,\n",
              "          (53480., 'z', -9, 'NULL', 4096, -9.,  2.7376726e+01,   nan,  1.,  0.,  0., 1264.911,  0., 31.622776, 42.5, 0.,  1., 18.975   , 0.),\n",
              "          (53480., 'Y', -9, 'NULL', 4096, -9.,  1.2225737e+01,   nan,  1.,  0.,  0., 1264.911,  0., 31.622776, 42.5, 0.,  1., 19.829   , 0.),\n",
              "          ( -777., '-', -9, 'XXXX',    0,  0., -7.7700000e+02, -777., -9., -9., -9.,   -9.   , -9., -9.      , -9. , 0., -9., 99.      , 0.)],\n",
              "         dtype=(numpy.record, [('MJD', '>f8'), ('BAND', 'S2'), ('CCDNUM', '>i2'), ('FIELD', 'S12'), ('PHOTFLAG', '>i4'), ('PHOTPROB', '>f4'), ('FLUXCAL', '>f4'), ('FLUXCALERR', '>f4'), ('PSF_SIG1', '>f4'), ('PSF_SIG2', '>f4'), ('PSF_RATIO', '>f4'), ('SKY_SIG', '>f4'), ('SKY_SIG_T', '>f4'), ('RDNOISE', '>f4'), ('ZEROPT', '>f4'), ('ZEROPT_ERR', '>f4'), ('GAIN', '>f4'), ('SIM_MAGOBS', '>f4'), ('SIM_FLUXCAL_HOSTERR', '>f4')]))"
            ]
          },
          "metadata": {
            "tags": []
          },
          "execution_count": 40
        }
      ]
    },
    {
      "cell_type": "code",
      "metadata": {
        "id": "e4BZ-HtxXJCm",
        "colab": {
          "base_uri": "https://localhost:8080/"
        },
        "outputId": "d5f432ab-d4ce-4977-a565-8c5a82fa2b18"
      },
      "source": [
        "hdul_EB_02P[1].data"
      ],
      "execution_count": 41,
      "outputs": [
        {
          "output_type": "execute_result",
          "data": {
            "text/plain": [
              "FITS_rec([(53000., 'u', -9, 'NULL', 4096, -9.,  5.9433776e-01,   nan,  1.,  0.,  0., 1264.911,  0., 31.622776, 42.5, 0.,  1., 23.15623 , 0.),\n",
              "          (53000., 'g', -9, 'NULL', 4096, -9.,  5.3667064e+00,   nan,  1.,  0.,  0., 1264.911,  0., 31.622776, 42.5, 0.,  1., 20.591   , 0.),\n",
              "          (53000., 'r', -9, 'NULL', 4096, -9.,  5.9562311e+00,   nan,  1.,  0.,  0., 1264.911,  0., 31.622776, 42.5, 0.,  1., 20.453232, 0.),\n",
              "          ...,\n",
              "          (53480., 'z', -9, 'NULL',    0, -9., -1.6074659e-02,   nan,  1.,  0.,  0., 1264.911,  0., 31.622776, 42.5, 0.,  1., 22.074   , 0.),\n",
              "          (53480., 'Y', -9, 'NULL',    0, -9.,  5.7380123e-04,   nan,  1.,  0.,  0., 1264.911,  0., 31.622776, 42.5, 0.,  1., 23.058   , 0.),\n",
              "          ( -777., '-', -9, 'XXXX',    0,  0., -7.7700000e+02, -777., -9., -9., -9.,   -9.   , -9., -9.      , -9. , 0., -9., 99.      , 0.)],\n",
              "         dtype=(numpy.record, [('MJD', '>f8'), ('BAND', 'S2'), ('CCDNUM', '>i2'), ('FIELD', 'S12'), ('PHOTFLAG', '>i4'), ('PHOTPROB', '>f4'), ('FLUXCAL', '>f4'), ('FLUXCALERR', '>f4'), ('PSF_SIG1', '>f4'), ('PSF_SIG2', '>f4'), ('PSF_RATIO', '>f4'), ('SKY_SIG', '>f4'), ('SKY_SIG_T', '>f4'), ('RDNOISE', '>f4'), ('ZEROPT', '>f4'), ('ZEROPT_ERR', '>f4'), ('GAIN', '>f4'), ('SIM_MAGOBS', '>f4'), ('SIM_FLUXCAL_HOSTERR', '>f4')]))"
            ]
          },
          "metadata": {
            "tags": []
          },
          "execution_count": 41
        }
      ]
    },
    {
      "cell_type": "code",
      "metadata": {
        "id": "m5027qe6FQWu"
      },
      "source": [
        ""
      ],
      "execution_count": null,
      "outputs": []
    },
    {
      "cell_type": "code",
      "metadata": {
        "id": "p4GfPhNrFQTi"
      },
      "source": [
        ""
      ],
      "execution_count": null,
      "outputs": []
    },
    {
      "cell_type": "code",
      "metadata": {
        "id": "WY9ErWtRFQQi"
      },
      "source": [
        ""
      ],
      "execution_count": null,
      "outputs": []
    },
    {
      "cell_type": "code",
      "metadata": {
        "id": "7FRml1K0XI-O"
      },
      "source": [
        ""
      ],
      "execution_count": null,
      "outputs": []
    },
    {
      "cell_type": "code",
      "metadata": {
        "colab": {
          "base_uri": "https://localhost:8080/"
        },
        "id": "lKWt4LN3ZQKb",
        "outputId": "86ccbf92-3547-40e6-e912-38add500be74"
      },
      "source": [
        "hdul_EB_01H[1].data"
      ],
      "execution_count": null,
      "outputs": [
        {
          "output_type": "execute_result",
          "data": {
            "text/plain": [
              "FITS_rec([('', '308781', 'NULL', 2, 0., 0., 0.2, -9, -9, 16, 1254,       1,    1254, 0., 0., -1.2514587e-03, 0.001, -1.2514587e-03, 0.001, 0., 0., 0, 0, -9, 0., 0., 0., 0.001, -999., -999., -9., -9., -99., -9., -9., -99., -99., 999., 999., 999., 999., 999., 999., 999., 999., 999., 999., 999., 999., -999., -999., -999., -999., -999., -999., 53001.223, -9, 'LCLIB', 12, 16, 'PHOEBE', 315, 1, 1, 0, 3, 0., 0., 0., 1, -0., -9, 0., 0., 0., 0., 0., 53000., 0., -9., -9., 21.923555, 18.865   , 18.387   , 18.483555, 18.817   , 19.663   , 21.922   , 18.863   , 18.38575 , 18.482   , 18.81575 , 19.66125 , 1000., 1000., 1000., 1000., 1000., 1000., -9),\n",
              "          ('', '24908', 'NULL', 2, 0., 0., 0.2, -9, -9, 16, 1254,    1256,    2509, 0., 0., -2.2635108e-04, 0.001, -2.2635108e-04, 0.001, 0., 0., 0, 0, -9, 0., 0., 0., 0.001, -999., -999., -9., -9., -99., -9., -9., -99., -99., 999., 999., 999., 999., 999., 999., 999., 999., 999., 999., 999., 999., -999., -999., -999., -999., -999., -999., 52999.688, -9, 'LCLIB', 12, 16, 'PHOEBE', 321, 1, 1, 0, 3, 0., 0., 0., 1, -0., -9, 0., 0., 0., 0., 0., 53000., 0., -9., -9., 19.119   , 16.736   , 16.734   , 17.121   , 17.632   , 18.596   , 19.1185  , 16.736   , 16.734   , 17.121   , 17.632   , 18.596   , 1000., 1000., 1000., 1000., 1000., 1000., -9),\n",
              "          ('', '152579', 'NULL', 2, 0., 0., 0.2, -9, -9, 16, 1254,    2511,    3764, 0., 0.,  1.8348401e-04, 0.001,  1.8348401e-04, 0.001, 0., 0., 0, 0, -9, 0., 0., 0., 0.001, -999., -999., -9., -9., -99., -9., -9., -99., -99., 999., 999., 999., 999., 999., 999., 999., 999., 999., 999., 999., 999., -999., -999., -999., -999., -999., -999., 53000.15 , -9, 'LCLIB', 12, 16, 'PHOEBE', 329, 1, 2, 0, 3, 0., 0., 0., 1, -0., -9, 0., 0., 0., 0., 0., 53000., 0., -9., -9., 16.238926, 13.640925, 13.485926, 13.781925, 14.237694, 15.164926, 16.225403, 13.627673, 13.473105, 13.769435, 14.225485, 15.152765, 1000., 1000., 1000., 1000., 1000., 1000., -9),\n",
              "          ...,\n",
              "          ('', '1181728', 'NULL', 2, 0., 0., 0.2, -9, -9, 16, 1254, 2506236, 2507489, 0., 0., -3.2543851e-04, 0.001, -3.2543851e-04, 0.001, 0., 0., 0, 0, -9, 0., 0., 0., 0.001, -999., -999., -9., -9., -99., -9., -9., -99., -99., 999., 999., 999., 999., 999., 999., 999., 999., 999., 999., 999., 999., -999., -999., -999., -999., -999., -999., 52999.746, -9, 'LCLIB', 12, 16, 'PHOEBE',  15, 1, 1, 0, 3, 0., 0., 0., 1,  0., -9, 0., 0., 0., 0., 0., 53000., 0., -9., -9., 23.276745, 21.029007, 21.11953 , 21.56053 , 22.102793, 23.086792, 23.245   , 20.998   , 21.09    , 21.531   , 22.074   , 23.058   , 1000., 1000., 1000., 1000., 1000., 1000., -9),\n",
              "          ('', '312626', 'NULL', 2, 0., 0., 0.2, -9, -9, 16, 1254, 2507491, 2508744, 0., 0.,  3.4737543e-04, 0.001,  3.4737543e-04, 0.001, 0., 0., 0, 0, -9, 0., 0., 0., 0.001, -999., -999., -9., -9., -99., -9., -9., -99., -99., 999., 999., 999., 999., 999., 999., 999., 999., 999., 999., 999., 999., -999., -999., -999., -999., -999., -999., 53001.05 , -9, 'LCLIB', 12, 16, 'PHOEBE',  21, 1, 2, 0, 3, 0., 0., 0., 1,  0., -9, 0., 0., 0., 0., 0., 53000., 0., -9., -9., 17.062   , 14.496   , 14.364   , 14.675   , 15.139   , 16.073   , 17.062   , 14.496   , 14.364   , 14.67475 , 15.139   , 16.07275 , 1000., 1000., 1000., 1000., 1000., 1000., -9),\n",
              "          ('', '53283', 'NULL', 2, 0., 0., 0.2, -9, -9, 16, 1254, 2508746, 2509999, 0., 0.,  6.1197090e-05, 0.001,  6.1197090e-05, 0.001, 0., 0., 0, 0, -9, 0., 0., 0., 0.001, -999., -999., -9., -9., -99., -9., -9., -99., -99., 999., 999., 999., 999., 999., 999., 999., 999., 999., 999., 999., 999., -999., -999., -999., -999., -999., -999., 52999.22 , -9, 'LCLIB', 12, 16, 'PHOEBE',  71, 1, 1, 0, 3, 0., 0., 0., 1,  0., -9, 0., 0., 0., 0., 0., 53000., 0., -9., -9., 22.021   , 19.007   , 18.55858 , 18.67258 , 19.01658 , 19.869581, 21.98462 , 18.973135, 18.526396, 18.641657, 18.986658, 19.840412, 1000., 1000., 1000., 1000., 1000., 1000., -9)],\n",
              "         dtype=(numpy.record, [('SUBSURVEY', 'S40'), ('SNID', 'S16'), ('IAUC', 'S16'), ('FAKE', '>i2'), ('RA', '>f8'), ('DEC', '>f8'), ('PIXSIZE', '>f4'), ('NXPIX', '>i2'), ('NYPIX', '>i2'), ('SNTYPE', '>i4'), ('NOBS', '>i4'), ('PTROBS_MIN', '>i4'), ('PTROBS_MAX', '>i4'), ('MWEBV', '>f4'), ('MWEBV_ERR', '>f4'), ('REDSHIFT_HELIO', '>f4'), ('REDSHIFT_HELIO_ERR', '>f4'), ('REDSHIFT_FINAL', '>f4'), ('REDSHIFT_FINAL_ERR', '>f4'), ('VPEC', '>f4'), ('VPEC_ERR', '>f4'), ('HOSTGAL_NMATCH', '>i2'), ('HOSTGAL_NMATCH2', '>i2'), ('HOSTGAL_OBJID', '>i8'), ('HOSTGAL_PHOTOZ', '>f4'), ('HOSTGAL_PHOTOZ_ERR', '>f4'), ('HOSTGAL_SPECZ', '>f4'), ('HOSTGAL_SPECZ_ERR', '>f4'), ('HOSTGAL_RA', '>f8'), ('HOSTGAL_DEC', '>f8'), ('HOSTGAL_SNSEP', '>f4'), ('HOSTGAL_DDLR', '>f4'), ('HOSTGAL_CONFUSION', '>f4'), ('HOSTGAL_LOGMASS', '>f4'), ('HOSTGAL_LOGMASS_ERR', '>f4'), ('HOSTGAL_sSFR', '>f4'), ('HOSTGAL_sSFR_ERR', '>f4'), ('HOSTGAL_MAG_u', '>f4'), ('HOSTGAL_MAG_g', '>f4'), ('HOSTGAL_MAG_r', '>f4'), ('HOSTGAL_MAG_i', '>f4'), ('HOSTGAL_MAG_z', '>f4'), ('HOSTGAL_MAG_Y', '>f4'), ('HOSTGAL_MAGERR_u', '>f4'), ('HOSTGAL_MAGERR_g', '>f4'), ('HOSTGAL_MAGERR_r', '>f4'), ('HOSTGAL_MAGERR_i', '>f4'), ('HOSTGAL_MAGERR_z', '>f4'), ('HOSTGAL_MAGERR_Y', '>f4'), ('HOSTGAL_SB_FLUXCAL_u', '>f4'), ('HOSTGAL_SB_FLUXCAL_g', '>f4'), ('HOSTGAL_SB_FLUXCAL_r', '>f4'), ('HOSTGAL_SB_FLUXCAL_i', '>f4'), ('HOSTGAL_SB_FLUXCAL_z', '>f4'), ('HOSTGAL_SB_FLUXCAL_Y', '>f4'), ('PEAKMJD', '>f4'), ('SEARCH_TYPE', '>i4'), ('SIM_MODEL_NAME', 'S32'), ('SIM_MODEL_INDEX', '>i2'), ('SIM_TYPE_INDEX', '>i2'), ('SIM_TYPE_NAME', 'S8'), ('SIM_TEMPLATE_INDEX', '>i4'), ('SIM_LIBID', '>i4'), ('SIM_NGEN_LIBID', '>i4'), ('SIM_NOBS_UNDEFINED', '>i4'), ('SIM_SEARCHEFF_MASK', '>i4'), ('SIM_REDSHIFT_HELIO', '>f4'), ('SIM_REDSHIFT_CMB', '>f4'), ('SIM_REDSHIFT_HOST', '>f4'), ('SIM_REDSHIFT_FLAG', '>i2'), ('SIM_VPEC', '>f4'), ('SIM_HOSTLIB_GALID', '>i8'), ('SIM_DLMU', '>f4'), ('SIM_LENSDMU', '>f4'), ('SIM_RA', '>f8'), ('SIM_DEC', '>f8'), ('SIM_MWEBV', '>f4'), ('SIM_PEAKMJD', '>f4'), ('SIM_MAGSMEAR_COH', '>f4'), ('SIM_AV', '>f4'), ('SIM_RV', '>f4'), ('SIM_PEAKMAG_u', '>f4'), ('SIM_PEAKMAG_g', '>f4'), ('SIM_PEAKMAG_r', '>f4'), ('SIM_PEAKMAG_i', '>f4'), ('SIM_PEAKMAG_z', '>f4'), ('SIM_PEAKMAG_Y', '>f4'), ('SIM_TEMPLATEMAG_u', '>f4'), ('SIM_TEMPLATEMAG_g', '>f4'), ('SIM_TEMPLATEMAG_r', '>f4'), ('SIM_TEMPLATEMAG_i', '>f4'), ('SIM_TEMPLATEMAG_z', '>f4'), ('SIM_TEMPLATEMAG_Y', '>f4'), ('SIM_EXPOSURE_u', '>f4'), ('SIM_EXPOSURE_g', '>f4'), ('SIM_EXPOSURE_r', '>f4'), ('SIM_EXPOSURE_i', '>f4'), ('SIM_EXPOSURE_z', '>f4'), ('SIM_EXPOSURE_Y', '>f4'), ('SIM_SUBSAMPLE_INDEX', '>i2')]))"
            ]
          },
          "metadata": {
            "tags": []
          },
          "execution_count": 22
        }
      ]
    },
    {
      "cell_type": "code",
      "metadata": {
        "colab": {
          "base_uri": "https://localhost:8080/"
        },
        "id": "pEX60qL_gMia",
        "outputId": "09be6e51-e2b6-4a40-d463-654d9464e872"
      },
      "source": [
        "aa = hdul_EB_01H[1].data['snid']\n",
        "aa"
      ],
      "execution_count": 33,
      "outputs": [
        {
          "output_type": "execute_result",
          "data": {
            "text/plain": [
              "chararray(['308781', '24908', '152579', ..., '1181728', '312626', '53283'],\n",
              "          dtype='<U16')"
            ]
          },
          "metadata": {
            "tags": []
          },
          "execution_count": 33
        }
      ]
    },
    {
      "cell_type": "code",
      "metadata": {
        "colab": {
          "base_uri": "https://localhost:8080/"
        },
        "id": "joK2qhHdhHGn",
        "outputId": "6ea7ac16-efab-44f8-82ea-f7087b186a60"
      },
      "source": [
        "type(aa)"
      ],
      "execution_count": null,
      "outputs": [
        {
          "output_type": "execute_result",
          "data": {
            "text/plain": [
              "numpy.chararray"
            ]
          },
          "metadata": {
            "tags": []
          },
          "execution_count": 33
        }
      ]
    },
    {
      "cell_type": "code",
      "metadata": {
        "id": "gx-EttkkhYYZ"
      },
      "source": [
        "np.save('snid', bb)"
      ],
      "execution_count": null,
      "outputs": []
    },
    {
      "cell_type": "code",
      "metadata": {
        "colab": {
          "base_uri": "https://localhost:8080/"
        },
        "id": "agQmVqvYENj-",
        "outputId": "229868b7-5338-41e7-eef6-8e8e3432703c"
      },
      "source": [
        "np.sort(aa)"
      ],
      "execution_count": 34,
      "outputs": [
        {
          "output_type": "execute_result",
          "data": {
            "text/plain": [
              "chararray(['1000316', '1000623', '1000747', ..., '999012', '999554',\n",
              "           '999816'], dtype='<U16')"
            ]
          },
          "metadata": {
            "tags": []
          },
          "execution_count": 34
        }
      ]
    },
    {
      "cell_type": "code",
      "metadata": {
        "colab": {
          "base_uri": "https://localhost:8080/"
        },
        "id": "c5mxL6oIh5fp",
        "outputId": "f1c91dfc-4996-49fd-a713-cc1b1c22af39"
      },
      "source": [
        "bb = np.sort(aa)\n",
        "bb"
      ],
      "execution_count": null,
      "outputs": [
        {
          "output_type": "execute_result",
          "data": {
            "text/plain": [
              "chararray(['1000316', '1000623', '1000747', ..., '999012', '999554',\n",
              "           '999816'], dtype='<U16')"
            ]
          },
          "metadata": {
            "tags": []
          },
          "execution_count": 52
        }
      ]
    },
    {
      "cell_type": "code",
      "metadata": {
        "colab": {
          "base_uri": "https://localhost:8080/"
        },
        "id": "0K04ePqykDuf",
        "outputId": "c3eccac5-9644-4e54-98e0-34ba06ebefe1"
      },
      "source": [
        "aaa = aa[-10:]\n",
        "aaa"
      ],
      "execution_count": null,
      "outputs": [
        {
          "output_type": "execute_result",
          "data": {
            "text/plain": [
              "chararray(['994122', '994197', '994321', '994443', '994882', '996648',\n",
              "           '997680', '999012', '999554', '999816'], dtype='<U16')"
            ]
          },
          "metadata": {
            "tags": []
          },
          "execution_count": 53
        }
      ]
    },
    {
      "cell_type": "code",
      "metadata": {
        "id": "DNz5os-dkc7d"
      },
      "source": [
        "x = np.array([('Rex', 9, 81.0), ('Fido', 3, 27.0)],\n",
        "...              dtype=[('name', 'U10'), ('age', 'i4'), ('weight', 'f4')])"
      ],
      "execution_count": 2,
      "outputs": []
    },
    {
      "cell_type": "code",
      "metadata": {
        "colab": {
          "base_uri": "https://localhost:8080/"
        },
        "id": "95DbH8OrZCPA",
        "outputId": "1d2369ed-93da-4738-8649-f2ed9d465938"
      },
      "source": [
        "x"
      ],
      "execution_count": 12,
      "outputs": [
        {
          "output_type": "execute_result",
          "data": {
            "text/plain": [
              "array([('Rex', 9, 81.), ('Fido', 3, 27.)],\n",
              "      dtype=[('name', '<U10'), ('age', '<i4'), ('weight', '<f4')])"
            ]
          },
          "metadata": {
            "tags": []
          },
          "execution_count": 12
        }
      ]
    },
    {
      "cell_type": "code",
      "metadata": {
        "colab": {
          "base_uri": "https://localhost:8080/"
        },
        "id": "c9ywxR2DZHUF",
        "outputId": "7ab64531-5a15-4f12-ae2c-0936fd13cc06"
      },
      "source": [
        "x[1]"
      ],
      "execution_count": 4,
      "outputs": [
        {
          "output_type": "execute_result",
          "data": {
            "text/plain": [
              "('Fido', 3, 27.)"
            ]
          },
          "metadata": {
            "tags": []
          },
          "execution_count": 4
        }
      ]
    },
    {
      "cell_type": "code",
      "metadata": {
        "colab": {
          "base_uri": "https://localhost:8080/"
        },
        "id": "mpS6PgRTZJ4I",
        "outputId": "2d6042b6-28bd-4507-8c65-9213e1230f29"
      },
      "source": [
        "type(x[1])"
      ],
      "execution_count": 11,
      "outputs": [
        {
          "output_type": "execute_result",
          "data": {
            "text/plain": [
              "numpy.void"
            ]
          },
          "metadata": {
            "tags": []
          },
          "execution_count": 11
        }
      ]
    },
    {
      "cell_type": "code",
      "metadata": {
        "colab": {
          "base_uri": "https://localhost:8080/",
          "height": 35
        },
        "id": "MMbETK_2ZLN6",
        "outputId": "df36709d-3cc7-4fa3-c813-a25e43634685"
      },
      "source": [
        "x[1][0]"
      ],
      "execution_count": 8,
      "outputs": [
        {
          "output_type": "execute_result",
          "data": {
            "application/vnd.google.colaboratory.intrinsic+json": {
              "type": "string"
            },
            "text/plain": [
              "'Fido'"
            ]
          },
          "metadata": {
            "tags": []
          },
          "execution_count": 8
        }
      ]
    },
    {
      "cell_type": "code",
      "metadata": {
        "colab": {
          "base_uri": "https://localhost:8080/"
        },
        "id": "gRMWdFvbcpJv",
        "outputId": "7b7c4608-4ed5-48c9-dccf-fa3ac1810862"
      },
      "source": [
        "x.dtype"
      ],
      "execution_count": 23,
      "outputs": [
        {
          "output_type": "execute_result",
          "data": {
            "text/plain": [
              "dtype([('name', '<U10'), ('age', '<i4'), ('weight', '<f4')])"
            ]
          },
          "metadata": {
            "tags": []
          },
          "execution_count": 23
        }
      ]
    },
    {
      "cell_type": "code",
      "metadata": {
        "colab": {
          "base_uri": "https://localhost:8080/"
        },
        "id": "vvdzOR9mZPei",
        "outputId": "15b0db64-6882-4f2b-f376-bc96313d183b"
      },
      "source": [
        "x.dtype.fields"
      ],
      "execution_count": 16,
      "outputs": [
        {
          "output_type": "execute_result",
          "data": {
            "text/plain": [
              "mappingproxy({'age': (dtype('int32'), 40),\n",
              "              'name': (dtype('<U10'), 0),\n",
              "              'weight': (dtype('float32'), 44)})"
            ]
          },
          "metadata": {
            "tags": []
          },
          "execution_count": 16
        }
      ]
    },
    {
      "cell_type": "code",
      "metadata": {
        "colab": {
          "base_uri": "https://localhost:8080/"
        },
        "id": "GaJE2umQbt2q",
        "outputId": "0bf71478-88dc-4eb2-ebba-0dec489add3b"
      },
      "source": [
        "hdul_EB_01H[1].data.dtype"
      ],
      "execution_count": 22,
      "outputs": [
        {
          "output_type": "execute_result",
          "data": {
            "text/plain": [
              "dtype((numpy.record, [('SUBSURVEY', 'S40'), ('SNID', 'S16'), ('IAUC', 'S16'), ('FAKE', '>i2'), ('RA', '>f8'), ('DEC', '>f8'), ('PIXSIZE', '>f4'), ('NXPIX', '>i2'), ('NYPIX', '>i2'), ('SNTYPE', '>i4'), ('NOBS', '>i4'), ('PTROBS_MIN', '>i4'), ('PTROBS_MAX', '>i4'), ('MWEBV', '>f4'), ('MWEBV_ERR', '>f4'), ('REDSHIFT_HELIO', '>f4'), ('REDSHIFT_HELIO_ERR', '>f4'), ('REDSHIFT_FINAL', '>f4'), ('REDSHIFT_FINAL_ERR', '>f4'), ('VPEC', '>f4'), ('VPEC_ERR', '>f4'), ('HOSTGAL_NMATCH', '>i2'), ('HOSTGAL_NMATCH2', '>i2'), ('HOSTGAL_OBJID', '>i8'), ('HOSTGAL_PHOTOZ', '>f4'), ('HOSTGAL_PHOTOZ_ERR', '>f4'), ('HOSTGAL_SPECZ', '>f4'), ('HOSTGAL_SPECZ_ERR', '>f4'), ('HOSTGAL_RA', '>f8'), ('HOSTGAL_DEC', '>f8'), ('HOSTGAL_SNSEP', '>f4'), ('HOSTGAL_DDLR', '>f4'), ('HOSTGAL_CONFUSION', '>f4'), ('HOSTGAL_LOGMASS', '>f4'), ('HOSTGAL_LOGMASS_ERR', '>f4'), ('HOSTGAL_sSFR', '>f4'), ('HOSTGAL_sSFR_ERR', '>f4'), ('HOSTGAL_MAG_u', '>f4'), ('HOSTGAL_MAG_g', '>f4'), ('HOSTGAL_MAG_r', '>f4'), ('HOSTGAL_MAG_i', '>f4'), ('HOSTGAL_MAG_z', '>f4'), ('HOSTGAL_MAG_Y', '>f4'), ('HOSTGAL_MAGERR_u', '>f4'), ('HOSTGAL_MAGERR_g', '>f4'), ('HOSTGAL_MAGERR_r', '>f4'), ('HOSTGAL_MAGERR_i', '>f4'), ('HOSTGAL_MAGERR_z', '>f4'), ('HOSTGAL_MAGERR_Y', '>f4'), ('HOSTGAL_SB_FLUXCAL_u', '>f4'), ('HOSTGAL_SB_FLUXCAL_g', '>f4'), ('HOSTGAL_SB_FLUXCAL_r', '>f4'), ('HOSTGAL_SB_FLUXCAL_i', '>f4'), ('HOSTGAL_SB_FLUXCAL_z', '>f4'), ('HOSTGAL_SB_FLUXCAL_Y', '>f4'), ('PEAKMJD', '>f4'), ('SEARCH_TYPE', '>i4'), ('SIM_MODEL_NAME', 'S32'), ('SIM_MODEL_INDEX', '>i2'), ('SIM_TYPE_INDEX', '>i2'), ('SIM_TYPE_NAME', 'S8'), ('SIM_TEMPLATE_INDEX', '>i4'), ('SIM_LIBID', '>i4'), ('SIM_NGEN_LIBID', '>i4'), ('SIM_NOBS_UNDEFINED', '>i4'), ('SIM_SEARCHEFF_MASK', '>i4'), ('SIM_REDSHIFT_HELIO', '>f4'), ('SIM_REDSHIFT_CMB', '>f4'), ('SIM_REDSHIFT_HOST', '>f4'), ('SIM_REDSHIFT_FLAG', '>i2'), ('SIM_VPEC', '>f4'), ('SIM_HOSTLIB_GALID', '>i8'), ('SIM_DLMU', '>f4'), ('SIM_LENSDMU', '>f4'), ('SIM_RA', '>f8'), ('SIM_DEC', '>f8'), ('SIM_MWEBV', '>f4'), ('SIM_PEAKMJD', '>f4'), ('SIM_MAGSMEAR_COH', '>f4'), ('SIM_AV', '>f4'), ('SIM_RV', '>f4'), ('SIM_PEAKMAG_u', '>f4'), ('SIM_PEAKMAG_g', '>f4'), ('SIM_PEAKMAG_r', '>f4'), ('SIM_PEAKMAG_i', '>f4'), ('SIM_PEAKMAG_z', '>f4'), ('SIM_PEAKMAG_Y', '>f4'), ('SIM_TEMPLATEMAG_u', '>f4'), ('SIM_TEMPLATEMAG_g', '>f4'), ('SIM_TEMPLATEMAG_r', '>f4'), ('SIM_TEMPLATEMAG_i', '>f4'), ('SIM_TEMPLATEMAG_z', '>f4'), ('SIM_TEMPLATEMAG_Y', '>f4'), ('SIM_EXPOSURE_u', '>f4'), ('SIM_EXPOSURE_g', '>f4'), ('SIM_EXPOSURE_r', '>f4'), ('SIM_EXPOSURE_i', '>f4'), ('SIM_EXPOSURE_z', '>f4'), ('SIM_EXPOSURE_Y', '>f4'), ('SIM_SUBSAMPLE_INDEX', '>i2')]))"
            ]
          },
          "metadata": {
            "tags": []
          },
          "execution_count": 22
        }
      ]
    },
    {
      "cell_type": "code",
      "metadata": {
        "id": "JZdPexDjceTt"
      },
      "source": [
        "bb = np.array(['111' , '22', '3', '112', '23', '4' ])"
      ],
      "execution_count": 35,
      "outputs": []
    },
    {
      "cell_type": "code",
      "metadata": {
        "colab": {
          "base_uri": "https://localhost:8080/"
        },
        "id": "5qb2nfc2EyIs",
        "outputId": "c6f03f8f-7e68-425c-dbaa-4852fbc634d0"
      },
      "source": [
        "type(bb)"
      ],
      "execution_count": 37,
      "outputs": [
        {
          "output_type": "execute_result",
          "data": {
            "text/plain": [
              "numpy.ndarray"
            ]
          },
          "metadata": {
            "tags": []
          },
          "execution_count": 37
        }
      ]
    },
    {
      "cell_type": "code",
      "metadata": {
        "colab": {
          "base_uri": "https://localhost:8080/"
        },
        "id": "_-YLt4iOEzF9",
        "outputId": "aecb0da7-1ad4-45cf-90d5-d8c35ca3a283"
      },
      "source": [
        "np.sort(bb)"
      ],
      "execution_count": 39,
      "outputs": [
        {
          "output_type": "execute_result",
          "data": {
            "text/plain": [
              "array(['111', '112', '22', '23', '3', '4'], dtype='<U3')"
            ]
          },
          "metadata": {
            "tags": []
          },
          "execution_count": 39
        }
      ]
    },
    {
      "cell_type": "code",
      "metadata": {
        "id": "Tbq6CeoyE17H"
      },
      "source": [
        "hdul_KN17_01H = fits.open('/content/drive/MyDrive/LSST/PLAsTiCC/Data/GSN_IDEAL_z02/IDEAL_z02_MODEL64_KN_K17/GSN_IDEAL_z02_NONIaMODEL0-0001_HEAD.FITS.gz')\n",
        "hdul_KN17_01P = fits.open('/content/drive/MyDrive/LSST/PLAsTiCC/Data/GSN_IDEAL_z02/IDEAL_z02_MODEL64_KN_K17/GSN_IDEAL_z02_NONIaMODEL0-0001_PHOT.FITS.gz')"
      ],
      "execution_count": 46,
      "outputs": []
    },
    {
      "cell_type": "code",
      "metadata": {
        "colab": {
          "base_uri": "https://localhost:8080/"
        },
        "id": "9DzUcO0KzIT6",
        "outputId": "4c778914-eb88-4d28-d7f6-4ee695f5a0fc"
      },
      "source": [
        "hdul_KN17_01H[1].data"
      ],
      "execution_count": 47,
      "outputs": [
        {
          "output_type": "execute_result",
          "data": {
            "text/plain": [
              "FITS_rec([('', '761387', 'NULL', 2, 0., 0., 0.2, -9, -9, 64, 1254,       1,    1254, 0., 0., 0.02178423, 0.001, 0.02056207, 0.001, 0., 300., 0, 0, -9, -9., -9., 0., 0., -999., -999., -9., -9., -99., -9., -9., -99., -99., 999., 999., 999., 999., 999., 999., 999., 999., 999., 999., 999., 999., -999., -999., -999., -999., -999., -999., 53101.156, -9, 'SIMSED.KN-K17', 7, 64, 'UNKNOWN', 123, 1,  1, 0, 3, 0.02122231, 0.02000082, 0.02122231, 1,  0., -9, 34.69962 , -2.4927041e-04, 0., 0., 0., 53100.906, 0., -9., -9., 22.7832  , 21.302404, 20.157566, 20.159107, 20.26703 , 20.301521, 1000., 1000., 1000., 1000., 1000., 1000., -9),\n",
              "          ('', '242217', 'NULL', 2, 0., 0., 0.2, -9, -9, 64, 1254,    1256,    2509, 0., 0., 0.02153427, 0.001, 0.02031241, 0.001, 0., 300., 0, 0, -9, -9., -9., 0., 0., -999., -999., -9., -9., -99., -9., -9., -99., -99., 999., 999., 999., 999., 999., 999., 999., 999., 999., 999., 999., 999., -999., -999., -999., -999., -999., -999., 53101.574, -9, 'SIMSED.KN-K17', 7, 64, 'UNKNOWN', 124, 1,  2, 0, 3, 0.02122179, 0.02000031, 0.02122179, 1,  0., -9, 34.699562, -6.1113678e-04, 0., 0., 0., 53100.72 , 0., -9., -9., 20.653446, 20.066305, 20.111261, 20.273407, 20.537186, 20.845768, 1000., 1000., 1000., 1000., 1000., 1000., -9),\n",
              "          ('', '112344', 'NULL', 2, 0., 0., 0.2, -9, -9, 64, 1254,    2511,    3764, 0., 0., 0.02182512, 0.001, 0.02060291, 0.001, 0., 300., 0, 0, -9, -9., -9., 0., 0., -999., -999., -9., -9., -99., -9., -9., -99., -99., 999., 999., 999., 999., 999., 999., 999., 999., 999., 999., 999., 999., -999., -999., -999., -999., -999., -999., 53098.645, -9, 'SIMSED.KN-K17', 7, 64, 'UNKNOWN', 106, 1,  3, 0, 3, 0.0212223 , 0.02000081, 0.0212223 , 1,  0., -9, 34.699615, -8.6497792e-05, 0., 0., 0., 53100.066, 0., -9., -9., 20.868013, 19.931057, 20.064377, 20.368702, 20.68446 , 20.925404, 1000., 1000., 1000., 1000., 1000., 1000., -9),\n",
              "          ...,\n",
              "          ('', '988029', 'NULL', 2, 0., 0., 0.2, -9, -9, 64, 1254, 2506236, 2507489, 0., 0., 0.01984797, 0.001, 0.01862813, 0.001, 0., 300., 0, 0, -9, -9., -9., 0., 0., -999., -999., -9., -9., -99., -9., -9., -99., -99., 999., 999., 999., 999., 999., 999., 999., 999., 999., 999., 999., 999., -999., -999., -999., -999., -999., -999., 53099.87 , -9, 'SIMSED.KN-K17', 7, 64, 'UNKNOWN', 180, 1, 48, 0, 3, 0.02122213, 0.02000064, 0.02122213, 1, -0., -9, 34.6996  , -2.0469689e-04, 0., 0., 0., 53100.008, 0., -9., -9., 19.56289 , 18.407858, 18.746435, 19.245722, 19.73125 , 20.111616, 1000., 1000., 1000., 1000., 1000., 1000., -9),\n",
              "          ('', '1134500', 'NULL', 2, 0., 0., 0.2, -9, -9, 64, 1254, 2507491, 2508744, 0., 0., 0.02140456, 0.001, 0.02018285, 0.001, 0., 300., 0, 0, -9, -9., -9., 0., 0., -999., -999., -9., -9., -99., -9., -9., -99., -99., 999., 999., 999., 999., 999., 999., 999., 999., 999., 999., 999., 999., -999., -999., -999., -999., -999., -999., 53098.445, -9, 'SIMSED.KN-K17', 7, 64, 'UNKNOWN', 258, 1, 49, 0, 3, 0.0212223 , 0.02000081, 0.0212223 , 1,  0., -9, 34.699615, -6.8703397e-05, 0., 0., 0., 53100.375, 0., -9., -9., 18.782743, 18.556591, 18.875156, 19.360285, 19.777063, 20.195532, 1000., 1000., 1000., 1000., 1000., 1000., -9),\n",
              "          ('', '1369501', 'NULL', 2, 0., 0., 0.2, -9, -9, 64, 1254, 2508746, 2509999, 0., 0., 0.02126492, 0.001, 0.02004339, 0.001, 0., 300., 0, 0, -9, -9., -9., 0., 0., -999., -999., -9., -9., -99., -9., -9., -99., -99., 999., 999., 999., 999., 999., 999., 999., 999., 999., 999., 999., 999., -999., -999., -999., -999., -999., -999., 53101.684, -9, 'SIMSED.KN-K17', 7, 64, 'UNKNOWN', 155, 1, 50, 0, 3, 0.02122167, 0.02000018, 0.02122167, 1, -0., -9, 34.699547, -3.5578237e-04, 0., 0., 0., 53100.797, 0., -9., -9., 20.034534, 19.68943 , 19.897131, 20.23821 , 20.57594 , 20.995325, 1000., 1000., 1000., 1000., 1000., 1000., -9)],\n",
              "         dtype=(numpy.record, [('SUBSURVEY', 'S40'), ('SNID', 'S16'), ('IAUC', 'S16'), ('FAKE', '>i2'), ('RA', '>f8'), ('DEC', '>f8'), ('PIXSIZE', '>f4'), ('NXPIX', '>i2'), ('NYPIX', '>i2'), ('SNTYPE', '>i4'), ('NOBS', '>i4'), ('PTROBS_MIN', '>i4'), ('PTROBS_MAX', '>i4'), ('MWEBV', '>f4'), ('MWEBV_ERR', '>f4'), ('REDSHIFT_HELIO', '>f4'), ('REDSHIFT_HELIO_ERR', '>f4'), ('REDSHIFT_FINAL', '>f4'), ('REDSHIFT_FINAL_ERR', '>f4'), ('VPEC', '>f4'), ('VPEC_ERR', '>f4'), ('HOSTGAL_NMATCH', '>i2'), ('HOSTGAL_NMATCH2', '>i2'), ('HOSTGAL_OBJID', '>i8'), ('HOSTGAL_PHOTOZ', '>f4'), ('HOSTGAL_PHOTOZ_ERR', '>f4'), ('HOSTGAL_SPECZ', '>f4'), ('HOSTGAL_SPECZ_ERR', '>f4'), ('HOSTGAL_RA', '>f8'), ('HOSTGAL_DEC', '>f8'), ('HOSTGAL_SNSEP', '>f4'), ('HOSTGAL_DDLR', '>f4'), ('HOSTGAL_CONFUSION', '>f4'), ('HOSTGAL_LOGMASS', '>f4'), ('HOSTGAL_LOGMASS_ERR', '>f4'), ('HOSTGAL_sSFR', '>f4'), ('HOSTGAL_sSFR_ERR', '>f4'), ('HOSTGAL_MAG_u', '>f4'), ('HOSTGAL_MAG_g', '>f4'), ('HOSTGAL_MAG_r', '>f4'), ('HOSTGAL_MAG_i', '>f4'), ('HOSTGAL_MAG_z', '>f4'), ('HOSTGAL_MAG_Y', '>f4'), ('HOSTGAL_MAGERR_u', '>f4'), ('HOSTGAL_MAGERR_g', '>f4'), ('HOSTGAL_MAGERR_r', '>f4'), ('HOSTGAL_MAGERR_i', '>f4'), ('HOSTGAL_MAGERR_z', '>f4'), ('HOSTGAL_MAGERR_Y', '>f4'), ('HOSTGAL_SB_FLUXCAL_u', '>f4'), ('HOSTGAL_SB_FLUXCAL_g', '>f4'), ('HOSTGAL_SB_FLUXCAL_r', '>f4'), ('HOSTGAL_SB_FLUXCAL_i', '>f4'), ('HOSTGAL_SB_FLUXCAL_z', '>f4'), ('HOSTGAL_SB_FLUXCAL_Y', '>f4'), ('PEAKMJD', '>f4'), ('SEARCH_TYPE', '>i4'), ('SIM_MODEL_NAME', 'S32'), ('SIM_MODEL_INDEX', '>i2'), ('SIM_TYPE_INDEX', '>i2'), ('SIM_TYPE_NAME', 'S8'), ('SIM_TEMPLATE_INDEX', '>i4'), ('SIM_LIBID', '>i4'), ('SIM_NGEN_LIBID', '>i4'), ('SIM_NOBS_UNDEFINED', '>i4'), ('SIM_SEARCHEFF_MASK', '>i4'), ('SIM_REDSHIFT_HELIO', '>f4'), ('SIM_REDSHIFT_CMB', '>f4'), ('SIM_REDSHIFT_HOST', '>f4'), ('SIM_REDSHIFT_FLAG', '>i2'), ('SIM_VPEC', '>f4'), ('SIM_HOSTLIB_GALID', '>i8'), ('SIM_DLMU', '>f4'), ('SIM_LENSDMU', '>f4'), ('SIM_RA', '>f8'), ('SIM_DEC', '>f8'), ('SIM_MWEBV', '>f4'), ('SIM_PEAKMJD', '>f4'), ('SIM_MAGSMEAR_COH', '>f4'), ('SIM_AV', '>f4'), ('SIM_RV', '>f4'), ('SIM_PEAKMAG_u', '>f4'), ('SIM_PEAKMAG_g', '>f4'), ('SIM_PEAKMAG_r', '>f4'), ('SIM_PEAKMAG_i', '>f4'), ('SIM_PEAKMAG_z', '>f4'), ('SIM_PEAKMAG_Y', '>f4'), ('SIM_EXPOSURE_u', '>f4'), ('SIM_EXPOSURE_g', '>f4'), ('SIM_EXPOSURE_r', '>f4'), ('SIM_EXPOSURE_i', '>f4'), ('SIM_EXPOSURE_z', '>f4'), ('SIM_EXPOSURE_Y', '>f4'), ('SIM_SUBSAMPLE_INDEX', '>i2')]))"
            ]
          },
          "metadata": {
            "tags": []
          },
          "execution_count": 47
        }
      ]
    },
    {
      "cell_type": "code",
      "metadata": {
        "colab": {
          "base_uri": "https://localhost:8080/"
        },
        "id": "gbDIfrlKzMWd",
        "outputId": "fa6c66ce-8095-41a7-ca41-cd78a0c67da2"
      },
      "source": [
        "hdul_KN17_01P[1].data"
      ],
      "execution_count": 48,
      "outputs": [
        {
          "output_type": "execute_result",
          "data": {
            "text/plain": [
              "FITS_rec([(53000., 'u', -9, 'NULL', 0, -9.,  2.8308639e-03,   nan,  1.,  0.,  0., 1264.911,  0., 31.622776, 42.5, 0.,  1., 99.      , 0.),\n",
              "          (53000., 'g', -9, 'NULL', 0, -9.,  3.4854067e-03,   nan,  1.,  0.,  0., 1264.911,  0., 31.622776, 42.5, 0.,  1., 99.      , 0.),\n",
              "          (53000., 'r', -9, 'NULL', 0, -9.,  9.3985640e-05,   nan,  1.,  0.,  0., 1264.911,  0., 31.622776, 42.5, 0.,  1., 99.      , 0.),\n",
              "          ...,\n",
              "          (53480., 'z', -9, 'NULL', 0, -9.,  1.5399522e-03,   nan,  1.,  0.,  0., 1264.911,  0., 31.622776, 42.5, 0.,  1., 62.078907, 0.),\n",
              "          (53480., 'Y', -9, 'NULL', 0, -9.,  1.7482881e-03,   nan,  1.,  0.,  0., 1264.911,  0., 31.622776, 42.5, 0.,  1., 84.03199 , 0.),\n",
              "          ( -777., '-', -9, 'XXXX', 0,  0., -7.7700000e+02, -777., -9., -9., -9.,   -9.   , -9., -9.      , -9. , 0., -9., 99.      , 0.)],\n",
              "         dtype=(numpy.record, [('MJD', '>f8'), ('BAND', 'S2'), ('CCDNUM', '>i2'), ('FIELD', 'S12'), ('PHOTFLAG', '>i4'), ('PHOTPROB', '>f4'), ('FLUXCAL', '>f4'), ('FLUXCALERR', '>f4'), ('PSF_SIG1', '>f4'), ('PSF_SIG2', '>f4'), ('PSF_RATIO', '>f4'), ('SKY_SIG', '>f4'), ('SKY_SIG_T', '>f4'), ('RDNOISE', '>f4'), ('ZEROPT', '>f4'), ('ZEROPT_ERR', '>f4'), ('GAIN', '>f4'), ('SIM_MAGOBS', '>f4'), ('SIM_FLUXCAL_HOSTERR', '>f4')]))"
            ]
          },
          "metadata": {
            "tags": []
          },
          "execution_count": 48
        }
      ]
    },
    {
      "cell_type": "code",
      "metadata": {
        "id": "u-MSex2azQwH"
      },
      "source": [
        ""
      ],
      "execution_count": null,
      "outputs": []
    }
  ]
}